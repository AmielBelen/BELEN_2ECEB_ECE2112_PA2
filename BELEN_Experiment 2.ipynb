{
 "cells": [
  {
   "cell_type": "markdown",
   "id": "c443215c-1b0c-4f5d-a2a9-0f280b3ac2cc",
   "metadata": {},
   "source": [
    "# EXPERIMENT 2 - NUMERICAL PYTHON (NUMPY)"
   ]
  },
  {
   "cell_type": "code",
   "execution_count": 1,
   "id": "ffa795e1-5777-40ef-81dd-049f15aac6b2",
   "metadata": {},
   "outputs": [],
   "source": [
    "import numpy as np"
   ]
  },
  {
   "cell_type": "markdown",
   "id": "f039b7a2-1072-4bd1-bdf5-0db83df3a068",
   "metadata": {},
   "source": [
    "## NORMALIZATION PROBLEM"
   ]
  },
  {
   "cell_type": "code",
   "execution_count": 15,
   "id": "f5d5ae3d-a3b6-4873-a313-212e0e22907a",
   "metadata": {},
   "outputs": [
    {
     "name": "stdout",
     "output_type": "stream",
     "text": [
      "Original 5x5 ndarray (X):\n",
      " [[0.38591136 0.73538574 0.18796042 0.23889108 0.40926287]\n",
      " [0.69114384 0.17248074 0.13336449 0.27479756 0.32006006]\n",
      " [0.34371002 0.83591374 0.46676374 0.78669938 0.67223315]\n",
      " [0.42908182 0.13888708 0.07297899 0.71815425 0.32950075]\n",
      " [0.21730547 0.71113367 0.58099473 0.50582811 0.31936879]]\n"
     ]
    }
   ],
   "source": [
    "# Create a random 5x5 ndarray and store it in variable X\n",
    "\n",
    "# Use np.random.rand to generate random numbers between 0 and 1\n",
    "X = np.random.rand(5, 5)\n",
    "\n",
    "print(\"Original 5x5 ndarray (X):\\n\", X)"
   ]
  },
  {
   "cell_type": "code",
   "execution_count": 16,
   "id": "65caebf1-00a8-4e46-bd7d-27369d4e473e",
   "metadata": {},
   "outputs": [
    {
     "name": "stdout",
     "output_type": "stream",
     "text": [
      "\n",
      "Normalized 5x5 ndarray:\n",
      " [[-0.18214937  1.36287053 -1.0572869  -0.8321234  -0.07891277]\n",
      " [ 1.16727791 -1.12572232 -1.29865455 -0.6733815  -0.47327679]\n",
      " [-0.36872075  1.80730302  0.17529752  1.58972722  1.08367411]\n",
      " [ 0.00870643 -1.27423927 -1.56561773  1.28669045 -0.43153966]\n",
      " [-0.92755297  1.2556526   0.68031067  0.34800041 -0.47633289]]\n"
     ]
    }
   ],
   "source": [
    "# Normalize the matrix\n",
    "\n",
    "# np.mean(X) gives the mean of all elements\n",
    "# np.std(X) gives the standard deviation of all elements\n",
    "X_normalized = (X - X.mean()) / X.std() # Normalization formula: Z = (X - mean) / std\n",
    "\n",
    "print(\"\\nNormalized 5x5 ndarray:\\n\", X_normalized)"
   ]
  },
  {
   "cell_type": "code",
   "execution_count": 17,
   "id": "75b5ba8d-84f3-4794-bd42-7e896112cb24",
   "metadata": {},
   "outputs": [],
   "source": [
    "# Save the result to a file for later use\n",
    "\n",
    "# The .npy format is NumPy’s standard for saving arrays\n",
    "np.save(\"X_normalized.npy\", X_normalized)"
   ]
  },
  {
   "cell_type": "markdown",
   "id": "e3781ad5-fbc9-431f-8ab3-a9e0196be214",
   "metadata": {},
   "source": [
    "## DIVISIBLE BY 3 PROBLEM"
   ]
  },
  {
   "cell_type": "code",
   "execution_count": 18,
   "id": "c0f2b477-189e-4e11-a774-1b49c399c54d",
   "metadata": {},
   "outputs": [
    {
     "name": "stdout",
     "output_type": "stream",
     "text": [
      "\n",
      "10x10 ndarray of squares of first 100 integers (A):\n",
      " [[    1     4     9    16    25    36    49    64    81   100]\n",
      " [  121   144   169   196   225   256   289   324   361   400]\n",
      " [  441   484   529   576   625   676   729   784   841   900]\n",
      " [  961  1024  1089  1156  1225  1296  1369  1444  1521  1600]\n",
      " [ 1681  1764  1849  1936  2025  2116  2209  2304  2401  2500]\n",
      " [ 2601  2704  2809  2916  3025  3136  3249  3364  3481  3600]\n",
      " [ 3721  3844  3969  4096  4225  4356  4489  4624  4761  4900]\n",
      " [ 5041  5184  5329  5476  5625  5776  5929  6084  6241  6400]\n",
      " [ 6561  6724  6889  7056  7225  7396  7569  7744  7921  8100]\n",
      " [ 8281  8464  8649  8836  9025  9216  9409  9604  9801 10000]]\n"
     ]
    }
   ],
   "source": [
    "# Create a 10x10 ndarray with squares of the first 100 positive integers\n",
    "\n",
    "# np.arange(1, 101) generates numbers from 1 to 100\n",
    "# **2 squares each number\n",
    "# .reshape(10,10) turns the flat list into a 10x10 matrix\n",
    "A = np.arange(1, 101).reshape(10, 10) ** 2\n",
    "\n",
    "print(\"\\n10x10 ndarray of squares of first 100 integers (A):\\n\", A)"
   ]
  },
  {
   "cell_type": "code",
   "execution_count": 19,
   "id": "8fbb66b5-214e-46d1-9c13-b49a3e785946",
   "metadata": {},
   "outputs": [
    {
     "name": "stdout",
     "output_type": "stream",
     "text": [
      "\n",
      "Elements divisible by 3:\n",
      " [   9   36   81  144  225  324  441  576  729  900 1089 1296 1521 1764\n",
      " 2025 2304 2601 2916 3249 3600 3969 4356 4761 5184 5625 6084 6561 7056\n",
      " 7569 8100 8649 9216 9801]\n"
     ]
    }
   ],
   "source": [
    "# Find all elements divisible by 3\n",
    "\n",
    "# A % 3 == 0 creates a boolean mask of True/False values\n",
    "# A[A % 3 == 0] extracts only the values divisible by 3\n",
    "div_by_3 = A[A % 3 == 0]\n",
    "\n",
    "print(\"\\nElements divisible by 3:\\n\", div_by_3)"
   ]
  },
  {
   "cell_type": "code",
   "execution_count": 20,
   "id": "d8205bd5-e6b9-4dbc-bcb6-d3be4aec8e4c",
   "metadata": {},
   "outputs": [],
   "source": [
    "# Save the result\n",
    "np.save(\"div_by_3.npy\", div_by_3)"
   ]
  },
  {
   "cell_type": "code",
   "execution_count": null,
   "id": "8d668ac1-7ae0-451b-b588-1df44a1c090b",
   "metadata": {},
   "outputs": [],
   "source": []
  }
 ],
 "metadata": {
  "kernelspec": {
   "display_name": "Python [conda env:base] *",
   "language": "python",
   "name": "conda-base-py"
  },
  "language_info": {
   "codemirror_mode": {
    "name": "ipython",
    "version": 3
   },
   "file_extension": ".py",
   "mimetype": "text/x-python",
   "name": "python",
   "nbconvert_exporter": "python",
   "pygments_lexer": "ipython3",
   "version": "3.13.5"
  }
 },
 "nbformat": 4,
 "nbformat_minor": 5
}
